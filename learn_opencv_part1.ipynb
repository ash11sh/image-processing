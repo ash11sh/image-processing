{
  "nbformat": 4,
  "nbformat_minor": 0,
  "metadata": {
    "colab": {
      "name": "learn_openCV_part1.ipynb",
      "version": "0.3.2",
      "provenance": [],
      "collapsed_sections": [],
      "include_colab_link": true
    },
    "kernelspec": {
      "name": "python3",
      "display_name": "Python 3"
    }
  },
  "cells": [
    {
      "cell_type": "markdown",
      "metadata": {
        "id": "view-in-github",
        "colab_type": "text"
      },
      "source": [
        "<a href=\"https://colab.research.google.com/github/ash11sh/opencv-notes/blob/master/learn_opencv_part1.ipynb\" target=\"_parent\"><img src=\"https://colab.research.google.com/assets/colab-badge.svg\" alt=\"Open In Colab\"/></a>"
      ]
    },
    {
      "cell_type": "markdown",
      "metadata": {
        "id": "sr2rOxuxbwlj",
        "colab_type": "text"
      },
      "source": [
        "## read an image"
      ]
    },
    {
      "cell_type": "code",
      "metadata": {
        "id": "MrjkI38jZ3J3",
        "colab_type": "code",
        "colab": {}
      },
      "source": [
        "import cv2 \n",
        "import numpy as np\n",
        "\n",
        "from google.colab.patches import cv2_imshow\n",
        "\n",
        "src = cv2.imread('test.png')\n",
        "cv2_imshow(src)\n"
      ],
      "execution_count": 0,
      "outputs": []
    },
    {
      "cell_type": "markdown",
      "metadata": {
        "id": "z7BOBOksdH_f",
        "colab_type": "text"
      },
      "source": [
        ""
      ]
    },
    {
      "cell_type": "markdown",
      "metadata": {
        "id": "QO174z26b7U4",
        "colab_type": "text"
      },
      "source": [
        "## image grayscale"
      ]
    },
    {
      "cell_type": "code",
      "metadata": {
        "id": "ef5L-Lk0awpI",
        "colab_type": "code",
        "colab": {}
      },
      "source": [
        "gray = cv2.cvtColor(src,cv2.COLOR_BGR2GRAY)\n",
        "cv2.imwrite('gray.png',gray)\n",
        "cv2_imshow(gray)"
      ],
      "execution_count": 0,
      "outputs": []
    },
    {
      "cell_type": "markdown",
      "metadata": {
        "id": "0cod9tTgdLEu",
        "colab_type": "text"
      },
      "source": [
        "## image creation and assignment"
      ]
    },
    {
      "cell_type": "code",
      "metadata": {
        "id": "TMYWuG-3dQ8I",
        "colab_type": "code",
        "colab": {}
      },
      "source": [
        "import numpy as np\n",
        "\n",
        "m1 = np.copy(src)\n",
        "\n",
        "m2 = src\n",
        "src[100:200,200:300,:]=255\n",
        "cv2_imshow(m2)\n",
        "\n"
      ],
      "execution_count": 0,
      "outputs": []
    },
    {
      "cell_type": "code",
      "metadata": {
        "id": "qNoIaZSd8uNO",
        "colab_type": "code",
        "colab": {}
      },
      "source": [
        "m3 = np.zeros(src.shape,src.dtype)\n",
        "cv2_imshow(m3)\n",
        "\n"
      ],
      "execution_count": 0,
      "outputs": []
    },
    {
      "cell_type": "code",
      "metadata": {
        "id": "2IkKOFsa8wX6",
        "colab_type": "code",
        "colab": {}
      },
      "source": [
        "m4 = np.zeros([512,512],np.uint8)\n",
        "cv2_imshow(m4)\n",
        "\n"
      ],
      "execution_count": 0,
      "outputs": []
    },
    {
      "cell_type": "code",
      "metadata": {
        "id": "hLLIM_0G8yHH",
        "colab_type": "code",
        "colab": {}
      },
      "source": [
        "m5 = np.ones(shape=[512,512,3],dtype=np.uint8)\n",
        "m5[:,:,0]=255\n",
        "cv2_imshow(m5)"
      ],
      "execution_count": 0,
      "outputs": []
    },
    {
      "cell_type": "markdown",
      "metadata": {
        "id": "a_mgGp8LgKzW",
        "colab_type": "text"
      },
      "source": [
        "## img pixel read & write"
      ]
    },
    {
      "cell_type": "code",
      "metadata": {
        "id": "DOfBmUS7gNst",
        "colab_type": "code",
        "colab": {}
      },
      "source": [
        "h,w,ch = src.shape\n",
        "print(\"h, w , ch\", h,w , ch)\n",
        "\n",
        "for row in range(w):\n",
        "  for col in range(w):\n",
        "    b,g,r = src[row, col]\n",
        "    b = 255-b\n",
        "    g = 255-g\n",
        "    r = 255-r\n",
        "    src[row,col]=[b,g,r]\n",
        "cv2_imshow(src)\n"
      ],
      "execution_count": 0,
      "outputs": []
    },
    {
      "cell_type": "markdown",
      "metadata": {
        "id": "M2-L0b_C4Zo3",
        "colab_type": "text"
      },
      "source": [
        "## Pixel arthimetic operations"
      ]
    },
    {
      "cell_type": "code",
      "metadata": {
        "id": "9txrGrzD2Io_",
        "colab_type": "code",
        "colab": {}
      },
      "source": [
        "src1 = cv2.imread('test01.png')\n",
        "src2 = cv2.imread('baboon.png')\n",
        "cv2_imshow(src1)\n",
        "cv2_imshow(src2)\n",
        "\n"
      ],
      "execution_count": 0,
      "outputs": []
    },
    {
      "cell_type": "code",
      "metadata": {
        "id": "FzGqCZzY5Hy3",
        "colab_type": "code",
        "colab": {}
      },
      "source": [
        "\n",
        "h,w,ch = src1.shape\n",
        "\n",
        "print(\"h,w,ch\",h,w,ch)\n",
        "\n",
        "add_result = np.zeros(src1.shape, src1.dtype)\n",
        "\n",
        "cv2.add(src1,src2, add_result)\n",
        "cv2_imshow(add_result)"
      ],
      "execution_count": 0,
      "outputs": []
    },
    {
      "cell_type": "code",
      "metadata": {
        "id": "s_MXSvYP7REi",
        "colab_type": "code",
        "colab": {}
      },
      "source": [
        "sub_result = np.zeros(src1.shape,src1.dtype)\n",
        "cv2.subtract(src1,src2,sub_result)\n",
        "cv2_imshow(sub_result)"
      ],
      "execution_count": 0,
      "outputs": []
    },
    {
      "cell_type": "code",
      "metadata": {
        "id": "73jmgPDg9i8Q",
        "colab_type": "code",
        "colab": {}
      },
      "source": [
        "mul_result = np.zeros(src1.shape,src1.dtype)\n",
        "cv2.multiply(src1,src2,mul_result)\n",
        "cv2_imshow(mul_result)"
      ],
      "execution_count": 0,
      "outputs": []
    },
    {
      "cell_type": "code",
      "metadata": {
        "id": "pooygyuO-QCF",
        "colab_type": "code",
        "colab": {}
      },
      "source": [
        "div_result = np.zeros(src1.shape,src1.dtype)\n",
        "cv2.divide(src1,src2,div_result)\n",
        "cv2_imshow(div_result)"
      ],
      "execution_count": 0,
      "outputs": []
    },
    {
      "cell_type": "markdown",
      "metadata": {
        "id": "dtR_MQA7_S11",
        "colab_type": "text"
      },
      "source": [
        "## pseudo color enhancement"
      ]
    },
    {
      "cell_type": "code",
      "metadata": {
        "id": "B_Z0SG5M-05q",
        "colab_type": "code",
        "colab": {}
      },
      "source": [
        "src=cv2.imread('test.png')\n",
        "cv2_imshow(src)"
      ],
      "execution_count": 0,
      "outputs": []
    },
    {
      "cell_type": "code",
      "metadata": {
        "id": "FvdnMJAb_gL-",
        "colab_type": "code",
        "colab": {}
      },
      "source": [
        "dst = cv2.applyColorMap(src,cv2.COLORMAP_COOL)\n",
        "cv2_imshow(dst)"
      ],
      "execution_count": 0,
      "outputs": []
    },
    {
      "cell_type": "code",
      "metadata": {
        "id": "V3OFVgaXACZ8",
        "colab_type": "code",
        "colab": {}
      },
      "source": [
        "img = cv2.imread(\"test01.png\")\n",
        "color_image = cv2.applyColorMap(img, cv2.COLORMAP_JET)\n",
        "cv2_imshow(img)\n",
        "cv2_imshow(color_image)"
      ],
      "execution_count": 0,
      "outputs": []
    },
    {
      "cell_type": "markdown",
      "metadata": {
        "id": "_zlxXGN6Bnqx",
        "colab_type": "text"
      },
      "source": [
        "## pixel operation of OpenCV (logical operation)"
      ]
    },
    {
      "cell_type": "code",
      "metadata": {
        "id": "juarTEQ2Acgx",
        "colab_type": "code",
        "colab": {}
      },
      "source": [
        "#create image one\n",
        "\n",
        "src1 = np.zeros(shape=[400,400,3],dtype=np.uint8)\n",
        "src1[100:200, 100:200, 1] = 255\n",
        "src1[100:200, 100:200, 2] = 255\n",
        "\n",
        "cv2_imshow(src1)"
      ],
      "execution_count": 0,
      "outputs": []
    },
    {
      "cell_type": "code",
      "metadata": {
        "id": "-xAuH6FvCwaX",
        "colab_type": "code",
        "colab": {}
      },
      "source": [
        "#create img 2\n",
        "\n",
        "src2 = np.zeros(shape=[400,400,3], dtype= np.uint8)\n",
        "src2[150:250, 150:250, 2]=255\n",
        "cv2_imshow(src2)"
      ],
      "execution_count": 0,
      "outputs": []
    },
    {
      "cell_type": "code",
      "metadata": {
        "id": "_wl2_bSrDHmR",
        "colab_type": "code",
        "colab": {}
      },
      "source": [
        "dst1 = cv2.bitwise_and(src1,src2)\n",
        "dst2 = cv2.bitwise_xor(src1,src2)\n",
        "dst3 = cv2.bitwise_or(src1,src2)\n"
      ],
      "execution_count": 0,
      "outputs": []
    },
    {
      "cell_type": "code",
      "metadata": {
        "id": "_KlQweAnDgik",
        "colab_type": "code",
        "colab": {}
      },
      "source": [
        "cv2_imshow(dst1)\n",
        "cv2_imshow(dst2)\n",
        "cv2_imshow(dst3)"
      ],
      "execution_count": 0,
      "outputs": []
    },
    {
      "cell_type": "code",
      "metadata": {
        "id": "FzIj379ODk2v",
        "colab_type": "code",
        "colab": {}
      },
      "source": [
        "src = cv2.imread('baboon.png')\n",
        "cv2_imshow(src)\n",
        "\n",
        "dst = cv2.bitwise_not(src)\n",
        "cv2_imshow(dst)"
      ],
      "execution_count": 0,
      "outputs": []
    },
    {
      "cell_type": "markdown",
      "metadata": {
        "id": "1LKnzlDIEY7V",
        "colab_type": "text"
      },
      "source": [
        "## image channel separation and merge"
      ]
    },
    {
      "cell_type": "code",
      "metadata": {
        "id": "dji1hLzGD7aJ",
        "colab_type": "code",
        "colab": {}
      },
      "source": [
        "src = cv2.imread('test01.png')\n",
        "cv2_imshow(src)"
      ],
      "execution_count": 0,
      "outputs": []
    },
    {
      "cell_type": "code",
      "metadata": {
        "id": "XzgxphMsE8O-",
        "colab_type": "code",
        "colab": {}
      },
      "source": [
        "# blue chaneel = 0\n",
        "\n",
        "mv = cv2.split(src)\n",
        "mv[0][:,:] = 0\n",
        "dst1 = cv2.merge(mv)\n",
        "cv2_imshow(dst1)\n"
      ],
      "execution_count": 0,
      "outputs": []
    },
    {
      "cell_type": "code",
      "metadata": {
        "id": "e5hEqnRYFc59",
        "colab_type": "code",
        "colab": {}
      },
      "source": [
        "# green channel=0\n",
        "\n",
        "mv = cv2.split(src)\n",
        "mv[1][:,:]=0\n",
        "dst2 = cv2.merge(mv)\n",
        "\n",
        "cv2_imshow(dst2)"
      ],
      "execution_count": 0,
      "outputs": []
    },
    {
      "cell_type": "code",
      "metadata": {
        "id": "R_mmqensVdhN",
        "colab_type": "code",
        "colab": {}
      },
      "source": [
        "#red channel is zero\n",
        "\n",
        "mv = cv2.split(src)\n",
        "mv[2][:,:]=0\n",
        "dst3 = cv2.merge(mv)\n",
        "cv2_imshow(dst3)"
      ],
      "execution_count": 0,
      "outputs": []
    },
    {
      "cell_type": "code",
      "metadata": {
        "id": "tS0X73YeVxLD",
        "colab_type": "code",
        "colab": {}
      },
      "source": [
        "cv2.mixChannels(src,dst3,[2,0])\n",
        "cv2_imshow(dst3)"
      ],
      "execution_count": 0,
      "outputs": []
    },
    {
      "cell_type": "markdown",
      "metadata": {
        "id": "DBBM1CFWWQeH",
        "colab_type": "text"
      },
      "source": [
        "## color space and color space conversion"
      ]
    },
    {
      "cell_type": "code",
      "metadata": {
        "id": "A3jeBxslWJzA",
        "colab_type": "code",
        "colab": {}
      },
      "source": [
        "#rgb\n",
        "src = cv2.imread('baboon.png')\n",
        "cv2_imshow(src)"
      ],
      "execution_count": 0,
      "outputs": []
    },
    {
      "cell_type": "code",
      "metadata": {
        "id": "KK70lyFoWrvU",
        "colab_type": "code",
        "colab": {}
      },
      "source": [
        "#rgb to hsv\n",
        "hsv = cv2.cvtColor(src,cv2.COLOR_BGR2HSV)\n",
        "cv2_imshow(hsv)"
      ],
      "execution_count": 0,
      "outputs": []
    },
    {
      "cell_type": "code",
      "metadata": {
        "id": "ikj5unUlXAMa",
        "colab_type": "code",
        "colab": {}
      },
      "source": [
        "#rgb to yuv \n",
        "\n",
        "yuv = cv2.cvtColor(src,cv2.COLOR_BGR2YUV)\n",
        "cv2_imshow(yuv)"
      ],
      "execution_count": 0,
      "outputs": []
    },
    {
      "cell_type": "code",
      "metadata": {
        "id": "Ew-m8OCDdvhA",
        "colab_type": "code",
        "colab": {}
      },
      "source": [
        "#rgb to ycrcb\n",
        "\n",
        "ycrcb = cv2.cvtColor(src, cv2.COLOR_BGR2YCrCb )\n",
        "cv2_imshow(ycrcb)"
      ],
      "execution_count": 0,
      "outputs": []
    },
    {
      "cell_type": "code",
      "metadata": {
        "id": "riFRWbEAfNtZ",
        "colab_type": "code",
        "colab": {}
      },
      "source": [
        "src2 = cv2.imread('test.png')\n",
        "cv2_imshow(src2)\n",
        "\n",
        "hsv = cv2.cvtColor(src2,cv2.COLOR_BGR2HSV)\n",
        "mask = cv2.inRange(hsv, (35,43,46),(99,255,255))\n",
        "cv2_imshow(hsv)"
      ],
      "execution_count": 0,
      "outputs": []
    },
    {
      "cell_type": "code",
      "metadata": {
        "id": "gbqD4Dcjf6I8",
        "colab_type": "code",
        "colab": {}
      },
      "source": [
        ""
      ],
      "execution_count": 0,
      "outputs": []
    }
  ]
}